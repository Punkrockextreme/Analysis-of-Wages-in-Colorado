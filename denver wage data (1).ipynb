{
 "cells": [
  {
   "cell_type": "code",
   "execution_count": 28,
   "metadata": {},
   "outputs": [],
   "source": [
    "import pandas\n",
    "import numpy as np\n",
    "import matplotlib.pyplot as plt\n",
    "import seaborn as sns\n",
    "from scipy import stats\n",
    "f = r'C:\\Users\\jflan\\Downloads\\Employment_Wages_in_Colorado.csv'\n"
   ]
  },
  {
   "cell_type": "code",
   "execution_count": 29,
   "metadata": {},
   "outputs": [],
   "source": [
    "import matplotlib.pyplot as plt"
   ]
  },
  {
   "cell_type": "code",
   "execution_count": 30,
   "metadata": {},
   "outputs": [
    {
     "name": "stdout",
     "output_type": "stream",
     "text": [
      "83407\n"
     ]
    }
   ],
   "source": [
    "df= pandas.read_csv(f)\n",
    "print(len(df))"
   ]
  },
  {
   "cell_type": "code",
   "execution_count": 31,
   "metadata": {},
   "outputs": [
    {
     "name": "stdout",
     "output_type": "stream",
     "text": [
      "Index(['stateabbrv', 'statename', 'stfips', 'areaname', 'areatype',\n",
      "       'areatyname', 'area', 'periodyear', 'periodtype', 'pertypdesc',\n",
      "       'period', 'indcodty', 'indcode', 'indcodetitle', 'occodetype',\n",
      "       'occodetydesc', 'occcode', 'codetitle', 'wagesource', 'wagesrdesc',\n",
      "       'ratetype', 'ratetydesc', 'empcount', 'response', 'mean', 'entrywg',\n",
      "       'experience', 'pct10', 'pct25', 'median', 'pct75', 'pct90', 'udpct',\n",
      "       'udpctwage', 'udrnglopct', 'udrnghipct', 'udrngmean', 'wpctrelerr',\n",
      "       'epctrelerr', 'panelcode'],\n",
      "      dtype='object')\n",
      "40\n"
     ]
    }
   ],
   "source": [
    "print(df.keys())\n",
    "print(len(df.keys()))"
   ]
  },
  {
   "cell_type": "code",
   "execution_count": 32,
   "metadata": {},
   "outputs": [
    {
     "name": "stdout",
     "output_type": "stream",
     "text": [
      "                                                      0\n",
      "stateabbrv                                           CO\n",
      "statename                                      Colorado\n",
      "stfips                                                8\n",
      "areaname                                       Colorado\n",
      "areatype                                              1\n",
      "areatyname                                        State\n",
      "area                                                  0\n",
      "periodyear                                         2010\n",
      "periodtype                                            1\n",
      "pertypdesc                                       Annual\n",
      "period                                                0\n",
      "indcodty                                             10\n",
      "indcode                                               0\n",
      "indcodetitle                                  Total All\n",
      "occodetype                                            8\n",
      "occodetydesc                                   SOC 2000\n",
      "occcode                                               0\n",
      "codetitle                         Total All occupations\n",
      "wagesource                                            3\n",
      "wagesrdesc    Occupational Employment Statistics Survey\n",
      "ratetype                                              1\n",
      "ratetydesc                                  Hourly wage\n",
      "empcount                                        2157690\n",
      "response                                             78\n",
      "mean                                              22.48\n",
      "entrywg                                           10.05\n",
      "experience                                         28.7\n",
      "pct10                                              8.68\n",
      "pct25                                             11.55\n",
      "median                                            17.72\n",
      "pct75                                               NaN\n",
      "pct90                                               NaN\n",
      "udpct                                               NaN\n",
      "udpctwage                                           NaN\n",
      "udrnglopct                                          NaN\n",
      "udrnghipct                                          NaN\n",
      "udrngmean                                           NaN\n",
      "wpctrelerr                                          NaN\n",
      "epctrelerr                                          0.4\n",
      "panelcode                                           NaN\n"
     ]
    }
   ],
   "source": [
    "first_value=df.head(1)\n",
    "print(first_value.transpose())"
   ]
  },
  {
   "cell_type": "code",
   "execution_count": 33,
   "metadata": {},
   "outputs": [
    {
     "name": "stdout",
     "output_type": "stream",
     "text": [
      "[1 4]\n",
      "0        1\n",
      "1        4\n",
      "2        1\n",
      "3        4\n",
      "4        1\n",
      "5        4\n",
      "6        1\n",
      "7        4\n",
      "8        1\n",
      "9        4\n",
      "10       1\n",
      "11       4\n",
      "12       1\n",
      "13       4\n",
      "14       1\n",
      "15       4\n",
      "16       1\n",
      "17       4\n",
      "18       1\n",
      "19       4\n",
      "20       1\n",
      "21       4\n",
      "22       1\n",
      "23       4\n",
      "24       1\n",
      "25       4\n",
      "26       1\n",
      "27       4\n",
      "28       1\n",
      "29       4\n",
      "        ..\n",
      "83377    1\n",
      "83378    4\n",
      "83379    1\n",
      "83380    4\n",
      "83381    1\n",
      "83382    4\n",
      "83383    1\n",
      "83384    4\n",
      "83385    1\n",
      "83386    4\n",
      "83387    1\n",
      "83388    4\n",
      "83389    1\n",
      "83390    4\n",
      "83391    1\n",
      "83392    4\n",
      "83393    1\n",
      "83394    4\n",
      "83395    1\n",
      "83396    4\n",
      "83397    1\n",
      "83398    4\n",
      "83399    1\n",
      "83400    4\n",
      "83401    1\n",
      "83402    4\n",
      "83403    1\n",
      "83404    4\n",
      "83405    1\n",
      "83406    4\n",
      "Name: ratetype, Length: 83407, dtype: int64\n"
     ]
    }
   ],
   "source": [
    "print(df['ratetype'].unique())\n",
    "print(df['ratetype'])"
   ]
  },
  {
   "cell_type": "code",
   "execution_count": 34,
   "metadata": {},
   "outputs": [
    {
     "name": "stdout",
     "output_type": "stream",
     "text": [
      "0                     Total All occupations\n",
      "1                     Total All occupations\n",
      "2                     Total All occupations\n",
      "3                     Total All occupations\n",
      "4                     Total All occupations\n",
      "5                     Total All occupations\n",
      "6                     Total All occupations\n",
      "7                     Total All occupations\n",
      "8                     Total All occupations\n",
      "9                     Total All occupations\n",
      "10                    Total All occupations\n",
      "11                    Total All occupations\n",
      "12                    Total All occupations\n",
      "13                    Total All occupations\n",
      "14                    Total All occupations\n",
      "15                    Total All occupations\n",
      "16                    Total All occupations\n",
      "17                    Total All occupations\n",
      "18                    Total All occupations\n",
      "19                    Total All occupations\n",
      "20                    Total All occupations\n",
      "21                    Total All occupations\n",
      "22                    Total All occupations\n",
      "23                    Total All occupations\n",
      "24                    Total All occupations\n",
      "25                    Total All occupations\n",
      "26                    Total All occupations\n",
      "27                    Total All occupations\n",
      "28                    Total All occupations\n",
      "29                    Total All occupations\n",
      "                        ...                \n",
      "83377            Mine Shuttle Car Operators\n",
      "83378            Mine Shuttle Car Operators\n",
      "83379            Mine Shuttle Car Operators\n",
      "83380            Mine Shuttle Car Operators\n",
      "83381     Tank Car, Truck, and Ship Loaders\n",
      "83382     Tank Car, Truck, and Ship Loaders\n",
      "83383     Tank Car, Truck, and Ship Loaders\n",
      "83384     Tank Car, Truck, and Ship Loaders\n",
      "83385     Tank Car, Truck, and Ship Loaders\n",
      "83386     Tank Car, Truck, and Ship Loaders\n",
      "83387     Tank Car, Truck, and Ship Loaders\n",
      "83388     Tank Car, Truck, and Ship Loaders\n",
      "83389     Tank Car, Truck, and Ship Loaders\n",
      "83390     Tank Car, Truck, and Ship Loaders\n",
      "83391     Tank Car, Truck, and Ship Loaders\n",
      "83392     Tank Car, Truck, and Ship Loaders\n",
      "83393    Material Moving Workers, All Other\n",
      "83394    Material Moving Workers, All Other\n",
      "83395    Material Moving Workers, All Other\n",
      "83396    Material Moving Workers, All Other\n",
      "83397    Material Moving Workers, All Other\n",
      "83398    Material Moving Workers, All Other\n",
      "83399    Material Moving Workers, All Other\n",
      "83400    Material Moving Workers, All Other\n",
      "83401    Material Moving Workers, All Other\n",
      "83402    Material Moving Workers, All Other\n",
      "83403    Material Moving Workers, All Other\n",
      "83404    Material Moving Workers, All Other\n",
      "83405    Material Moving Workers, All Other\n",
      "83406    Material Moving Workers, All Other\n",
      "Name: codetitle, Length: 83407, dtype: object\n"
     ]
    }
   ],
   "source": [
    "print(df['codetitle'])"
   ]
  },
  {
   "cell_type": "code",
   "execution_count": 35,
   "metadata": {},
   "outputs": [
    {
     "data": {
      "text/plain": [
       "stateabbrv      False\n",
       "statename       False\n",
       "stfips          False\n",
       "areaname        False\n",
       "areatype        False\n",
       "areatyname      False\n",
       "area            False\n",
       "periodyear      False\n",
       "periodtype      False\n",
       "pertypdesc      False\n",
       "period          False\n",
       "indcodty        False\n",
       "indcode         False\n",
       "indcodetitle    False\n",
       "occodetype      False\n",
       "occodetydesc    False\n",
       "occcode         False\n",
       "codetitle       False\n",
       "wagesource      False\n",
       "wagesrdesc      False\n",
       "ratetype        False\n",
       "ratetydesc      False\n",
       "empcount        False\n",
       "response        False\n",
       "mean             True\n",
       "entrywg          True\n",
       "experience       True\n",
       "pct10            True\n",
       "pct25            True\n",
       "median           True\n",
       "pct75            True\n",
       "pct90            True\n",
       "udpct            True\n",
       "udpctwage        True\n",
       "udrnglopct       True\n",
       "udrnghipct       True\n",
       "udrngmean        True\n",
       "wpctrelerr       True\n",
       "epctrelerr      False\n",
       "panelcode        True\n",
       "dtype: bool"
      ]
     },
     "execution_count": 35,
     "metadata": {},
     "output_type": "execute_result"
    }
   ],
   "source": [
    "#Data cleaning\n",
    "\n",
    "#Let's see if we can find which columns contain blanks and which ones are filled out completely\n",
    "df.isna().any()"
   ]
  },
  {
   "cell_type": "code",
   "execution_count": 36,
   "metadata": {},
   "outputs": [
    {
     "name": "stdout",
     "output_type": "stream",
     "text": [
      "mean has 1742 null values, 2.0 percent is missing.\n",
      "entrywg has 1912 null values, 2.0 percent is missing.\n",
      "experience has 1974 null values, 2.0 percent is missing.\n",
      "pct10 has 1762 null values, 2.0 percent is missing.\n",
      "pct25 has 1852 null values, 2.0 percent is missing.\n",
      "median has 2083 null values, 2.0 percent is missing.\n",
      "pct75 has 11082 null values, 13.0 percent is missing.\n",
      "pct90 has 11958 null values, 14.0 percent is missing.\n",
      "udpct has 56179 null values, 67.0 percent is missing.\n",
      "udpctwage has 74887 null values, 90.0 percent is missing.\n",
      "udrnglopct has 56179 null values, 67.0 percent is missing.\n",
      "udrnghipct has 56179 null values, 67.0 percent is missing.\n",
      "udrngmean has 74887 null values, 90.0 percent is missing.\n",
      "wpctrelerr has 9091 null values, 11.0 percent is missing.\n",
      "panelcode has 35651 null values, 43.0 percent is missing.\n"
     ]
    }
   ],
   "source": [
    "#Of the columns that contain blanks what percentage of those columns are blank\n",
    "for column in df:\n",
    "        if df[column].isnull().any():\n",
    "            print('{0} has {1} null values, {2} percent is missing.'.format(column, df[column].isnull().sum(), str(round(100*df[column].isnull().sum()/83408))))"
   ]
  },
  {
   "cell_type": "code",
   "execution_count": 37,
   "metadata": {},
   "outputs": [
    {
     "name": "stdout",
     "output_type": "stream",
     "text": [
      "0\n",
      "['State' 'Metropolitan Statistical Area' 'Balance of State (pre-2015)'\n",
      " 'Balance of State']\n"
     ]
    }
   ],
   "source": [
    "duplicates= df[df.duplicated()]\n",
    "print(len(duplicates))\n",
    "# no duplicate rows! However, we still have summary rows. Let's remove all rows that are of a summary and see if that removes some holes in the data\n",
    "print(df['areatyname'].unique())"
   ]
  },
  {
   "cell_type": "code",
   "execution_count": 38,
   "metadata": {},
   "outputs": [
    {
     "name": "stdout",
     "output_type": "stream",
     "text": [
      "50612\n",
      "mean has 1013 null values, 1.0 percent is missing.\n",
      "entrywg has 1121 null values, 1.0 percent is missing.\n",
      "experience has 1155 null values, 1.0 percent is missing.\n",
      "pct10 has 1029 null values, 1.0 percent is missing.\n",
      "pct25 has 1089 null values, 1.0 percent is missing.\n",
      "median has 1220 null values, 1.0 percent is missing.\n",
      "pct75 has 6522 null values, 8.0 percent is missing.\n",
      "pct90 has 7121 null values, 9.0 percent is missing.\n",
      "udpct has 33539 null values, 40.0 percent is missing.\n",
      "udpctwage has 45191 null values, 54.0 percent is missing.\n",
      "udrnglopct has 33539 null values, 40.0 percent is missing.\n",
      "udrnghipct has 33539 null values, 40.0 percent is missing.\n",
      "udrngmean has 45191 null values, 54.0 percent is missing.\n",
      "wpctrelerr has 5453 null values, 7.0 percent is missing.\n",
      "panelcode has 21720 null values, 26.0 percent is missing.\n"
     ]
    }
   ],
   "source": [
    "#we want to remove anything that isn't a metropolitan statistical area\n",
    "df= df.loc[df['areatyname']== 'Metropolitan Statistical Area']\n",
    "print(len(df))\n",
    "for column in df:\n",
    "        if df[column].isnull().any():\n",
    "            print('{0} has {1} null values, {2} percent is missing.'.format(column, df[column].isnull().sum(), str(round(100*df[column].isnull().sum()/83408))))"
   ]
  },
  {
   "cell_type": "code",
   "execution_count": 39,
   "metadata": {},
   "outputs": [
    {
     "name": "stdout",
     "output_type": "stream",
     "text": [
      "['Hourly wage' 'Annual wage or salary']\n",
      "25146\n",
      "25466\n"
     ]
    }
   ],
   "source": [
    "#We should also look at the wage type so we are being specific to annual salaries\n",
    "#let's look at the unique wage rates, and change it to be uniformly annual wage\n",
    "print(df['ratetydesc'].unique())\n",
    "#How is the data split?\n",
    "print(len(df.loc[df['ratetydesc']=='Hourly wage']))\n",
    "print(len(df.loc[df['ratetydesc']=='Annual wage or salary']))\n",
    "df=df.loc[df['ratetydesc']=='Annual wage or salary']\n"
   ]
  },
  {
   "cell_type": "code",
   "execution_count": null,
   "metadata": {},
   "outputs": [],
   "source": []
  },
  {
   "cell_type": "code",
   "execution_count": 40,
   "metadata": {},
   "outputs": [
    {
     "name": "stdout",
     "output_type": "stream",
     "text": [
      "mean has 50 null values, 0.0 percent is missing.\n",
      "entrywg has 104 null values, 0.0 percent is missing.\n",
      "experience has 121 null values, 0.0 percent is missing.\n",
      "pct10 has 58 null values, 0.0 percent is missing.\n",
      "pct25 has 88 null values, 0.0 percent is missing.\n",
      "median has 154 null values, 0.0 percent is missing.\n",
      "pct75 has 2860 null values, 3.0 percent is missing.\n",
      "pct90 has 3167 null values, 4.0 percent is missing.\n",
      "udpct has 16883 null values, 20.0 percent is missing.\n",
      "udpctwage has 22709 null values, 27.0 percent is missing.\n",
      "udrnglopct has 16883 null values, 20.0 percent is missing.\n",
      "udrnghipct has 16883 null values, 20.0 percent is missing.\n",
      "udrngmean has 22709 null values, 27.0 percent is missing.\n",
      "wpctrelerr has 2781 null values, 3.0 percent is missing.\n",
      "panelcode has 11020 null values, 13.0 percent is missing.\n"
     ]
    }
   ],
   "source": [
    "#Let's drop all data that isn't annual\n",
    "df=df.loc[df['ratetydesc']=='Annual wage or salary']\n",
    "#How has it changed null values\n",
    "for column in df:\n",
    "        if df[column].isnull().any():\n",
    "            print('{0} has {1} null values, {2} percent is missing.'.format(column, df[column].isnull().sum(), str(round(100*df[column].isnull().sum()/83408))))"
   ]
  },
  {
   "cell_type": "code",
   "execution_count": 41,
   "metadata": {},
   "outputs": [
    {
     "name": "stdout",
     "output_type": "stream",
     "text": [
      "53736.75306893296\n"
     ]
    },
    {
     "data": {
      "text/plain": [
       "<matplotlib.collections.PathCollection at 0x23f602f02e8>"
      ]
     },
     "execution_count": 41,
     "metadata": {},
     "output_type": "execute_result"
    },
    {
     "data": {
      "image/png": "[encoded data removed]",
      "text/plain": [
       "<Figure size 432x288 with 1 Axes>"
      ]
     },
     "metadata": {
      "needs_background": "light"
     },
     "output_type": "display_data"
    }
   ],
   "source": [
    "#There is a significant decrease in null values. Next let's search for outliers in the mean column.\n",
    "#Based on Occupation is there anything job that seems to be way high or perhaps much lower than is realistic\n",
    "#How many unique occupations do we have?\n",
    "#print(len(df['codetitle'].unique()))\n",
    "#859! that's a lot I'm sure there will be some outliers. First let's find the mean of the mean\n",
    "print(df['mean'].mean())\n",
    "#ok, now lets do a scatter plot to see if there are any extreme values\n",
    "plt.scatter(df['mean'],df['periodyear'])"
   ]
  },
  {
   "cell_type": "code",
   "execution_count": 42,
   "metadata": {},
   "outputs": [
    {
     "name": "stdout",
     "output_type": "stream",
     "text": [
      "859\n"
     ]
    }
   ],
   "source": [
    "#Looks like there is a few missing values. We can address those later\n",
    "#validate the redunancies\n",
    "print(len(df['codetitle'].unique()))"
   ]
  },
  {
   "cell_type": "code",
   "execution_count": 69,
   "metadata": {},
   "outputs": [
    {
     "name": "stderr",
     "output_type": "stream",
     "text": [
      "C:\\Users\\jflan\\Anaconda3\\lib\\site-packages\\scipy\\stats\\stats.py:1713: FutureWarning: Using a non-tuple sequence for multidimensional indexing is deprecated; use `arr[tuple(seq)]` instead of `arr[seq]`. In the future this will be interpreted as an array index, `arr[np.array(seq)]`, which will result either in an error or a different result.\n",
      "  return np.add.reduce(sorted[indexer] * weights, axis=axis) / sumval\n"
     ]
    },
    {
     "data": {
      "image/png": "[encoded data removed]",
      "text/plain": [
       "<Figure size 525.75x360 with 1 Axes>"
      ]
     },
     "metadata": {
      "needs_background": "light"
     },
     "output_type": "display_data"
    }
   ],
   "source": [
    "msadfdf=df.groupby(['periodyear','areaname'])[['mean']].count().reset_index();\n",
    "#let's do a simple regression analysis on time vs mean revenue\n",
    "mean1=sns.lmplot(x='periodyear',y='mean',data=msadfdf,hue='areaname')\n",
    "mean1=(mean1.set_axis_labels(\"Year\",\"Mean Salary\"))\n"
   ]
  }
 ],
 "metadata": {
  "kernelspec": {
   "display_name": "Python 3",
   "language": "python",
   "name": "python3"
  },
  "language_info": {
   "codemirror_mode": {
    "name": "ipython",
    "version": 3
   },
   "file_extension": ".py",
   "mimetype": "text/x-python",
   "name": "python",
   "nbconvert_exporter": "python",
   "pygments_lexer": "ipython3",
   "version": "3.7.0"
  }
 },
 "nbformat": 4,
 "nbformat_minor": 2
}
